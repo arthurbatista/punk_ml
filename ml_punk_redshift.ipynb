{
 "cells": [
  {
   "cell_type": "code",
   "execution_count": 1,
   "id": "detailed-literature",
   "metadata": {},
   "outputs": [],
   "source": [
    "import json\n",
    "import pandas as pd\n",
    "import matplotlib\n",
    "import numpy as np\n",
    "from sklearn.model_selection import KFold\n",
    "from sklearn.metrics import mean_squared_error, r2_score\n",
    "import matplotlib.pyplot as plt\n",
    "\n",
    "from sklearn.preprocessing import  StandardScaler\n",
    "from sklearn.feature_selection import SelectKBest\n",
    "\n",
    "from sklearn import linear_model\n",
    "from sklearn.neighbors import KNeighborsRegressor\n",
    "from sklearn.ensemble import  RandomForestRegressor\n",
    "from sklearn.linear_model import LinearRegression\n",
    "from sklearn.ensemble import  GradientBoostingRegressor\n",
    "\n",
    "import botocore.session as s\n",
    "import boto3\n",
    "from botocore.waiter import WaiterModel\n",
    "from botocore.waiter import create_waiter_with_client\n",
    "from botocore.exceptions import WaiterError\n",
    "import operator"
   ]
  },
  {
   "cell_type": "code",
   "execution_count": 2,
   "id": "endless-gardening",
   "metadata": {},
   "outputs": [
    {
     "name": "stdout",
     "output_type": "stream",
     "text": [
      "Data API client successfully loaded\n"
     ]
    }
   ],
   "source": [
    "# https://aws.amazon.com/blogs/big-data/using-the-amazon-redshift-data-api-to-interact-from-an-amazon-sagemaker-jupyter-notebook/\n",
    "\n",
    "session = boto3.session.Session()\n",
    "region = session.region_name\n",
    "\n",
    "bc_session = s.get_session()\n",
    "\n",
    "session = boto3.Session(\n",
    "        botocore_session=bc_session,\n",
    "        region_name=region,\n",
    "    )\n",
    "\n",
    "client_redshift = session.client(\"redshift-data\")\n",
    "print(\"Data API client successfully loaded\")"
   ]
  },
  {
   "cell_type": "code",
   "execution_count": 3,
   "id": "innocent-shakespeare",
   "metadata": {},
   "outputs": [],
   "source": [
    "waiter_name = 'DataAPIExecution'\n",
    "\n",
    "delay=2\n",
    "max_attempts=3\n",
    "\n",
    "#Configure the waiter settings\n",
    "waiter_config = {\n",
    "  'version': 2,\n",
    "  'waiters': {\n",
    "    'DataAPIExecution': {\n",
    "      'operation': 'DescribeStatement',\n",
    "      'delay': delay,\n",
    "      'maxAttempts': max_attempts,\n",
    "      'acceptors': [\n",
    "        {\n",
    "          \"matcher\": \"path\",\n",
    "          \"expected\": \"FINISHED\",\n",
    "          \"argument\": \"Status\",\n",
    "          \"state\": \"success\"\n",
    "        },\n",
    "        {\n",
    "          \"matcher\": \"pathAny\",\n",
    "          \"expected\": [\"PICKED\",\"STARTED\",\"SUBMITTED\"],\n",
    "          \"argument\": \"Status\",\n",
    "          \"state\": \"retry\"\n",
    "        },\n",
    "        {\n",
    "          \"matcher\": \"pathAny\",\n",
    "          \"expected\": [\"FAILED\",\"ABORTED\"],\n",
    "          \"argument\": \"Status\",\n",
    "          \"state\": \"failure\"\n",
    "        }\n",
    "      ],\n",
    "    },\n",
    "  },\n",
    "}\n",
    "\n",
    "waiter_model = WaiterModel(waiter_config)\n",
    "custom_waiter = create_waiter_with_client(waiter_name, waiter_model, client_redshift)"
   ]
  },
  {
   "cell_type": "code",
   "execution_count": 18,
   "id": "adjacent-python",
   "metadata": {},
   "outputs": [
    {
     "name": "stdout",
     "output_type": "stream",
     "text": [
      "Redshift Data API execution  started ...\n",
      "Done waiting to finish Data API.\n"
     ]
    }
   ],
   "source": [
    "query = 'select * from punk_db.public.tbl_punk limit 8;'\n",
    "\n",
    "res = client_redshift.execute_statement(Database= 'punk_db', \n",
    "                                        DbUser='punk_user',\n",
    "                                        Sql= query, \n",
    "                                        ClusterIdentifier= 'punk-redshift-cluster')\n",
    "print(\"Redshift Data API execution  started ...\")\n",
    "\n",
    "id = res[\"Id\"]\n",
    "# Waiter in try block and wait for DATA API to return\n",
    "try:\n",
    "    custom_waiter.wait(Id=id)\n",
    "    print(\"Done waiting to finish Data API.\")\n",
    "except WaiterError as e:\n",
    "    print (e)\n",
    "\n",
    "output=client_redshift.get_statement_result(Id=id)\n",
    "nrows=output[\"TotalNumRows\"]\n",
    "ncols=len(output[\"ColumnMetadata\"])\n",
    "resultrows=output[\"Records\"]\n",
    "\n",
    "col_labels=[]\n",
    "for i in range(ncols): col_labels.append(output[\"ColumnMetadata\"][i]['label'])\n",
    "                                              \n",
    "records=[]\n",
    "for i in range(nrows): records.append(resultrows[i])\n",
    "\n",
    "df = pd.DataFrame(np.array(resultrows), columns=col_labels)"
   ]
  },
  {
   "cell_type": "code",
   "execution_count": 20,
   "id": "split-request",
   "metadata": {},
   "outputs": [
    {
     "data": {
      "text/plain": [
       "id            int64\n",
       "name         object\n",
       "abv          object\n",
       "ibu          object\n",
       "target_fg    object\n",
       "target_og    object\n",
       "ebc          object\n",
       "srm          object\n",
       "ph           object\n",
       "dtype: object"
      ]
     },
     "execution_count": 20,
     "metadata": {},
     "output_type": "execute_result"
    }
   ],
   "source": [
    "new_df = df.copy()\n",
    "def get_value(_dict):\n",
    "    if 'stringValue' in _dict:\n",
    "        return _dict['stringValue']\n",
    "    elif 'longValue' in _dict:\n",
    "        return _dict['longValue']\n",
    "    return 'nan'\n",
    "\n",
    "for i in range(len(new_df.columns)):\n",
    "    new_df[col_labels[i]]=new_df[col_labels[i]].apply(get_value)\n",
    "\n",
    "new_df.dtypes"
   ]
  }
 ],
 "metadata": {
  "kernelspec": {
   "display_name": "conda_python3",
   "language": "python",
   "name": "conda_python3"
  },
  "language_info": {
   "codemirror_mode": {
    "name": "ipython",
    "version": 3
   },
   "file_extension": ".py",
   "mimetype": "text/x-python",
   "name": "python",
   "nbconvert_exporter": "python",
   "pygments_lexer": "ipython3",
   "version": "3.6.13"
  }
 },
 "nbformat": 4,
 "nbformat_minor": 5
}
