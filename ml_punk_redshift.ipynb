{
 "cells": [
  {
   "cell_type": "markdown",
   "id": "active-graduation",
   "metadata": {},
   "source": [
    "# Introducao\n",
    "\n",
    "Neste notebook iremos explorar uma base de dados de cerveja. Essas informacoes sao extraidas da API https://punkapi.com/documentation/v2, processadas e armazenadas no AWS Redshift.\n",
    "\n",
    "Primeiramente iremos fazer algumas analises dos campos da base. Depois iremos testar modelos de aprendizado de maquina para tentar prever p IBU das cervejas."
   ]
  },
  {
   "cell_type": "code",
   "execution_count": 213,
   "id": "confidential-currency",
   "metadata": {},
   "outputs": [],
   "source": [
    "import json\n",
    "import pandas as pd\n",
    "import matplotlib\n",
    "import numpy as np\n",
    "import seaborn as sns\n",
    "import matplotlib.pyplot as plt\n",
    "\n",
    "from sklearn.model_selection import train_test_split\n",
    "from sklearn.metrics import mean_squared_error, r2_score\n",
    "from sklearn.metrics import classification_report\n",
    "\n",
    "from sklearn.preprocessing import  StandardScaler\n",
    "from sklearn.feature_selection import SelectKBest\n",
    "\n",
    "from sklearn import linear_model\n",
    "from sklearn.neighbors import KNeighborsRegressor\n",
    "from sklearn.ensemble import  RandomForestRegressor\n",
    "from sklearn.linear_model import LinearRegression\n",
    "from sklearn.ensemble import  GradientBoostingRegressor\n",
    "\n",
    "from sklearn.neighbors import KNeighborsClassifier\n",
    "from sklearn.ensemble import RandomForestClassifier, AdaBoostClassifier\n",
    "\n",
    "import botocore.session as s\n",
    "import boto3\n",
    "from botocore.waiter import WaiterModel\n",
    "from botocore.waiter import create_waiter_with_client\n",
    "from botocore.exceptions import WaiterError\n",
    "import operator"
   ]
  },
  {
   "cell_type": "markdown",
   "id": "outstanding-piece",
   "metadata": {},
   "source": [
    "## Carregando os dados do Redshift"
   ]
  },
  {
   "cell_type": "code",
   "execution_count": 169,
   "id": "civil-schedule",
   "metadata": {},
   "outputs": [
    {
     "name": "stdout",
     "output_type": "stream",
     "text": [
      "Data API client successfully loaded\n"
     ]
    }
   ],
   "source": [
    "session = boto3.session.Session()\n",
    "region = session.region_name\n",
    "\n",
    "bc_session = s.get_session()\n",
    "\n",
    "session = boto3.Session(\n",
    "        botocore_session=bc_session,\n",
    "        region_name=region,\n",
    "    )\n",
    "\n",
    "client_redshift = session.client(\"redshift-data\")\n",
    "print(\"Data API client successfully loaded\")"
   ]
  },
  {
   "cell_type": "code",
   "execution_count": 170,
   "id": "driven-arbitration",
   "metadata": {},
   "outputs": [],
   "source": [
    "waiter_name = 'DataAPIExecution'\n",
    "\n",
    "delay=2\n",
    "max_attempts=3\n",
    "\n",
    "#Configure the waiter settings\n",
    "waiter_config = {\n",
    "  'version': 2,\n",
    "  'waiters': {\n",
    "    'DataAPIExecution': {\n",
    "      'operation': 'DescribeStatement',\n",
    "      'delay': delay,\n",
    "      'maxAttempts': max_attempts,\n",
    "      'acceptors': [\n",
    "        {\n",
    "          \"matcher\": \"path\",\n",
    "          \"expected\": \"FINISHED\",\n",
    "          \"argument\": \"Status\",\n",
    "          \"state\": \"success\"\n",
    "        },\n",
    "        {\n",
    "          \"matcher\": \"pathAny\",\n",
    "          \"expected\": [\"PICKED\",\"STARTED\",\"SUBMITTED\"],\n",
    "          \"argument\": \"Status\",\n",
    "          \"state\": \"retry\"\n",
    "        },\n",
    "        {\n",
    "          \"matcher\": \"pathAny\",\n",
    "          \"expected\": [\"FAILED\",\"ABORTED\"],\n",
    "          \"argument\": \"Status\",\n",
    "          \"state\": \"failure\"\n",
    "        }\n",
    "      ],\n",
    "    },\n",
    "  },\n",
    "}\n",
    "\n",
    "waiter_model = WaiterModel(waiter_config)\n",
    "custom_waiter = create_waiter_with_client(waiter_name, waiter_model, client_redshift)"
   ]
  },
  {
   "cell_type": "code",
   "execution_count": 171,
   "id": "private-breach",
   "metadata": {},
   "outputs": [
    {
     "name": "stdout",
     "output_type": "stream",
     "text": [
      "Redshift Data API execution  started ...\n",
      "Done waiting to finish Data API.\n"
     ]
    }
   ],
   "source": [
    "query = 'select * from punk_db.public.tbl_punk;'\n",
    "\n",
    "res = client_redshift.execute_statement(Database= 'punk_db', \n",
    "                                        DbUser='punk_user',\n",
    "                                        Sql= query, \n",
    "                                        ClusterIdentifier= 'punk-redshift-cluster')\n",
    "print(\"Redshift Data API execution  started ...\")\n",
    "\n",
    "id = res[\"Id\"]\n",
    "# Waiter in try block and wait for DATA API to return\n",
    "try:\n",
    "    custom_waiter.wait(Id=id)\n",
    "    print(\"Done waiting to finish Data API.\")\n",
    "except WaiterError as e:\n",
    "    print (e)\n",
    "\n",
    "output=client_redshift.get_statement_result(Id=id)\n",
    "nrows=output[\"TotalNumRows\"]\n",
    "ncols=len(output[\"ColumnMetadata\"])\n",
    "resultrows=output[\"Records\"]\n",
    "\n",
    "col_labels=[]\n",
    "for i in range(ncols): col_labels.append(output[\"ColumnMetadata\"][i]['label'])\n",
    "                                              \n",
    "records=[]\n",
    "for i in range(nrows): records.append(resultrows[i])\n",
    "\n",
    "redshift_df = pd.DataFrame(np.array(resultrows), columns=col_labels)"
   ]
  },
  {
   "cell_type": "code",
   "execution_count": 172,
   "id": "greek-tribune",
   "metadata": {},
   "outputs": [
    {
     "data": {
      "text/html": [
       "<div>\n",
       "<style scoped>\n",
       "    .dataframe tbody tr th:only-of-type {\n",
       "        vertical-align: middle;\n",
       "    }\n",
       "\n",
       "    .dataframe tbody tr th {\n",
       "        vertical-align: top;\n",
       "    }\n",
       "\n",
       "    .dataframe thead th {\n",
       "        text-align: right;\n",
       "    }\n",
       "</style>\n",
       "<table border=\"1\" class=\"dataframe\">\n",
       "  <thead>\n",
       "    <tr style=\"text-align: right;\">\n",
       "      <th></th>\n",
       "      <th>id</th>\n",
       "      <th>name</th>\n",
       "      <th>abv</th>\n",
       "      <th>ibu</th>\n",
       "      <th>target_fg</th>\n",
       "      <th>target_og</th>\n",
       "      <th>ebc</th>\n",
       "      <th>srm</th>\n",
       "      <th>ph</th>\n",
       "    </tr>\n",
       "  </thead>\n",
       "  <tbody>\n",
       "    <tr>\n",
       "      <th>0</th>\n",
       "      <td>1</td>\n",
       "      <td>Buzz</td>\n",
       "      <td>4.5</td>\n",
       "      <td>60.0</td>\n",
       "      <td>1010.0</td>\n",
       "      <td>1044.0</td>\n",
       "      <td>20.0</td>\n",
       "      <td>10.0</td>\n",
       "      <td>4.4</td>\n",
       "    </tr>\n",
       "    <tr>\n",
       "      <th>1</th>\n",
       "      <td>2</td>\n",
       "      <td>Trashy Blonde</td>\n",
       "      <td>4.1</td>\n",
       "      <td>41.5</td>\n",
       "      <td>1010.0</td>\n",
       "      <td>1041.7</td>\n",
       "      <td>15.0</td>\n",
       "      <td>15.0</td>\n",
       "      <td>4.4</td>\n",
       "    </tr>\n",
       "    <tr>\n",
       "      <th>2</th>\n",
       "      <td>3</td>\n",
       "      <td>Berliner Weisse With Yuzu - B-Sides</td>\n",
       "      <td>4.2</td>\n",
       "      <td>8.0</td>\n",
       "      <td>1007.0</td>\n",
       "      <td>1040.0</td>\n",
       "      <td>8.0</td>\n",
       "      <td>4.0</td>\n",
       "      <td>3.2</td>\n",
       "    </tr>\n",
       "    <tr>\n",
       "      <th>3</th>\n",
       "      <td>4</td>\n",
       "      <td>Pilsen Lager</td>\n",
       "      <td>6.3</td>\n",
       "      <td>55.0</td>\n",
       "      <td>1012.0</td>\n",
       "      <td>1060.0</td>\n",
       "      <td>30.0</td>\n",
       "      <td>15.0</td>\n",
       "      <td>4.4</td>\n",
       "    </tr>\n",
       "    <tr>\n",
       "      <th>4</th>\n",
       "      <td>5</td>\n",
       "      <td>Avery Brown Dredge</td>\n",
       "      <td>7.2</td>\n",
       "      <td>59.0</td>\n",
       "      <td>1027.0</td>\n",
       "      <td>1069.0</td>\n",
       "      <td>10.0</td>\n",
       "      <td>5.0</td>\n",
       "      <td>4.4</td>\n",
       "    </tr>\n",
       "    <tr>\n",
       "      <th>...</th>\n",
       "      <td>...</td>\n",
       "      <td>...</td>\n",
       "      <td>...</td>\n",
       "      <td>...</td>\n",
       "      <td>...</td>\n",
       "      <td>...</td>\n",
       "      <td>...</td>\n",
       "      <td>...</td>\n",
       "      <td>...</td>\n",
       "    </tr>\n",
       "    <tr>\n",
       "      <th>320</th>\n",
       "      <td>321</td>\n",
       "      <td>Jinx Pale Ale</td>\n",
       "      <td>4.7</td>\n",
       "      <td>35.0</td>\n",
       "      <td>1008.0</td>\n",
       "      <td>1043.0</td>\n",
       "      <td>13.0</td>\n",
       "      <td>7.0</td>\n",
       "      <td>4.6</td>\n",
       "    </tr>\n",
       "    <tr>\n",
       "      <th>321</th>\n",
       "      <td>322</td>\n",
       "      <td>Jet Trash</td>\n",
       "      <td>6.9</td>\n",
       "      <td>65.0</td>\n",
       "      <td>1008.0</td>\n",
       "      <td>1060.0</td>\n",
       "      <td>18.0</td>\n",
       "      <td>9.0</td>\n",
       "      <td>4.6</td>\n",
       "    </tr>\n",
       "    <tr>\n",
       "      <th>322</th>\n",
       "      <td>323</td>\n",
       "      <td>Interstate Vienna Lager.</td>\n",
       "      <td>5.0</td>\n",
       "      <td>25.0</td>\n",
       "      <td>1007.0</td>\n",
       "      <td>1045.0</td>\n",
       "      <td>14.0</td>\n",
       "      <td>7.0</td>\n",
       "      <td>4.2</td>\n",
       "    </tr>\n",
       "    <tr>\n",
       "      <th>323</th>\n",
       "      <td>324</td>\n",
       "      <td>Fools Gold Dortmunder Lager</td>\n",
       "      <td>5.6</td>\n",
       "      <td>32.0</td>\n",
       "      <td>1009.0</td>\n",
       "      <td>1052.0</td>\n",
       "      <td>11.0</td>\n",
       "      <td>6.0</td>\n",
       "      <td>4.2</td>\n",
       "    </tr>\n",
       "    <tr>\n",
       "      <th>324</th>\n",
       "      <td>325</td>\n",
       "      <td>Zipcode</td>\n",
       "      <td>5.0</td>\n",
       "      <td>37.0</td>\n",
       "      <td>1006.0</td>\n",
       "      <td>1044.0</td>\n",
       "      <td>5.0</td>\n",
       "      <td>3.0</td>\n",
       "      <td>4.4</td>\n",
       "    </tr>\n",
       "  </tbody>\n",
       "</table>\n",
       "<p>325 rows × 9 columns</p>\n",
       "</div>"
      ],
      "text/plain": [
       "      id                                 name  abv   ibu  target_fg  \\\n",
       "0      1                                 Buzz  4.5  60.0     1010.0   \n",
       "1      2                        Trashy Blonde  4.1  41.5     1010.0   \n",
       "2      3  Berliner Weisse With Yuzu - B-Sides  4.2   8.0     1007.0   \n",
       "3      4                         Pilsen Lager  6.3  55.0     1012.0   \n",
       "4      5                   Avery Brown Dredge  7.2  59.0     1027.0   \n",
       "..   ...                                  ...  ...   ...        ...   \n",
       "320  321                        Jinx Pale Ale  4.7  35.0     1008.0   \n",
       "321  322                            Jet Trash  6.9  65.0     1008.0   \n",
       "322  323             Interstate Vienna Lager.  5.0  25.0     1007.0   \n",
       "323  324          Fools Gold Dortmunder Lager  5.6  32.0     1009.0   \n",
       "324  325                              Zipcode  5.0  37.0     1006.0   \n",
       "\n",
       "     target_og   ebc   srm   ph  \n",
       "0       1044.0  20.0  10.0  4.4  \n",
       "1       1041.7  15.0  15.0  4.4  \n",
       "2       1040.0   8.0   4.0  3.2  \n",
       "3       1060.0  30.0  15.0  4.4  \n",
       "4       1069.0  10.0   5.0  4.4  \n",
       "..         ...   ...   ...  ...  \n",
       "320     1043.0  13.0   7.0  4.6  \n",
       "321     1060.0  18.0   9.0  4.6  \n",
       "322     1045.0  14.0   7.0  4.2  \n",
       "323     1052.0  11.0   6.0  4.2  \n",
       "324     1044.0   5.0   3.0  4.4  \n",
       "\n",
       "[325 rows x 9 columns]"
      ]
     },
     "execution_count": 172,
     "metadata": {},
     "output_type": "execute_result"
    }
   ],
   "source": [
    "beer_df = redshift_df.copy()\n",
    "def get_value(_dict):\n",
    "    if 'stringValue' in _dict:\n",
    "        return _dict['stringValue']\n",
    "    elif 'longValue' in _dict:\n",
    "        return _dict['longValue']\n",
    "    return 'nan'\n",
    "\n",
    "for i in range(len(beer_df.columns)):\n",
    "    beer_df[col_labels[i]]=beer_df[col_labels[i]].apply(get_value)\n",
    "\n",
    "attributes = ['abv', 'ibu', 'target_fg',\n",
    "              'target_og', 'ebc', 'srm', 'ph']    \n",
    "\n",
    "for att in attributes:\n",
    "    beer_df[att] = beer_df[att].astype(float)\n",
    "    \n",
    "beer_df"
   ]
  },
  {
   "cell_type": "code",
   "execution_count": 173,
   "id": "green-lawyer",
   "metadata": {},
   "outputs": [
    {
     "data": {
      "text/html": [
       "<div>\n",
       "<style scoped>\n",
       "    .dataframe tbody tr th:only-of-type {\n",
       "        vertical-align: middle;\n",
       "    }\n",
       "\n",
       "    .dataframe tbody tr th {\n",
       "        vertical-align: top;\n",
       "    }\n",
       "\n",
       "    .dataframe thead th {\n",
       "        text-align: right;\n",
       "    }\n",
       "</style>\n",
       "<table border=\"1\" class=\"dataframe\">\n",
       "  <thead>\n",
       "    <tr style=\"text-align: right;\">\n",
       "      <th></th>\n",
       "      <th>abv</th>\n",
       "      <th>ibu</th>\n",
       "      <th>target_fg</th>\n",
       "      <th>target_og</th>\n",
       "      <th>ebc</th>\n",
       "      <th>srm</th>\n",
       "      <th>ph</th>\n",
       "    </tr>\n",
       "  </thead>\n",
       "  <tbody>\n",
       "    <tr>\n",
       "      <th>0</th>\n",
       "      <td>4.5</td>\n",
       "      <td>60.0</td>\n",
       "      <td>1010.0</td>\n",
       "      <td>1044.0</td>\n",
       "      <td>20.0</td>\n",
       "      <td>10.0</td>\n",
       "      <td>4.4</td>\n",
       "    </tr>\n",
       "    <tr>\n",
       "      <th>1</th>\n",
       "      <td>4.1</td>\n",
       "      <td>41.5</td>\n",
       "      <td>1010.0</td>\n",
       "      <td>1041.7</td>\n",
       "      <td>15.0</td>\n",
       "      <td>15.0</td>\n",
       "      <td>4.4</td>\n",
       "    </tr>\n",
       "    <tr>\n",
       "      <th>2</th>\n",
       "      <td>4.2</td>\n",
       "      <td>8.0</td>\n",
       "      <td>1007.0</td>\n",
       "      <td>1040.0</td>\n",
       "      <td>8.0</td>\n",
       "      <td>4.0</td>\n",
       "      <td>3.2</td>\n",
       "    </tr>\n",
       "    <tr>\n",
       "      <th>3</th>\n",
       "      <td>6.3</td>\n",
       "      <td>55.0</td>\n",
       "      <td>1012.0</td>\n",
       "      <td>1060.0</td>\n",
       "      <td>30.0</td>\n",
       "      <td>15.0</td>\n",
       "      <td>4.4</td>\n",
       "    </tr>\n",
       "    <tr>\n",
       "      <th>4</th>\n",
       "      <td>7.2</td>\n",
       "      <td>59.0</td>\n",
       "      <td>1027.0</td>\n",
       "      <td>1069.0</td>\n",
       "      <td>10.0</td>\n",
       "      <td>5.0</td>\n",
       "      <td>4.4</td>\n",
       "    </tr>\n",
       "    <tr>\n",
       "      <th>...</th>\n",
       "      <td>...</td>\n",
       "      <td>...</td>\n",
       "      <td>...</td>\n",
       "      <td>...</td>\n",
       "      <td>...</td>\n",
       "      <td>...</td>\n",
       "      <td>...</td>\n",
       "    </tr>\n",
       "    <tr>\n",
       "      <th>320</th>\n",
       "      <td>4.7</td>\n",
       "      <td>35.0</td>\n",
       "      <td>1008.0</td>\n",
       "      <td>1043.0</td>\n",
       "      <td>13.0</td>\n",
       "      <td>7.0</td>\n",
       "      <td>4.6</td>\n",
       "    </tr>\n",
       "    <tr>\n",
       "      <th>321</th>\n",
       "      <td>6.9</td>\n",
       "      <td>65.0</td>\n",
       "      <td>1008.0</td>\n",
       "      <td>1060.0</td>\n",
       "      <td>18.0</td>\n",
       "      <td>9.0</td>\n",
       "      <td>4.6</td>\n",
       "    </tr>\n",
       "    <tr>\n",
       "      <th>322</th>\n",
       "      <td>5.0</td>\n",
       "      <td>25.0</td>\n",
       "      <td>1007.0</td>\n",
       "      <td>1045.0</td>\n",
       "      <td>14.0</td>\n",
       "      <td>7.0</td>\n",
       "      <td>4.2</td>\n",
       "    </tr>\n",
       "    <tr>\n",
       "      <th>323</th>\n",
       "      <td>5.6</td>\n",
       "      <td>32.0</td>\n",
       "      <td>1009.0</td>\n",
       "      <td>1052.0</td>\n",
       "      <td>11.0</td>\n",
       "      <td>6.0</td>\n",
       "      <td>4.2</td>\n",
       "    </tr>\n",
       "    <tr>\n",
       "      <th>324</th>\n",
       "      <td>5.0</td>\n",
       "      <td>37.0</td>\n",
       "      <td>1006.0</td>\n",
       "      <td>1044.0</td>\n",
       "      <td>5.0</td>\n",
       "      <td>3.0</td>\n",
       "      <td>4.4</td>\n",
       "    </tr>\n",
       "  </tbody>\n",
       "</table>\n",
       "<p>325 rows × 7 columns</p>\n",
       "</div>"
      ],
      "text/plain": [
       "     abv   ibu  target_fg  target_og   ebc   srm   ph\n",
       "0    4.5  60.0     1010.0     1044.0  20.0  10.0  4.4\n",
       "1    4.1  41.5     1010.0     1041.7  15.0  15.0  4.4\n",
       "2    4.2   8.0     1007.0     1040.0   8.0   4.0  3.2\n",
       "3    6.3  55.0     1012.0     1060.0  30.0  15.0  4.4\n",
       "4    7.2  59.0     1027.0     1069.0  10.0   5.0  4.4\n",
       "..   ...   ...        ...        ...   ...   ...  ...\n",
       "320  4.7  35.0     1008.0     1043.0  13.0   7.0  4.6\n",
       "321  6.9  65.0     1008.0     1060.0  18.0   9.0  4.6\n",
       "322  5.0  25.0     1007.0     1045.0  14.0   7.0  4.2\n",
       "323  5.6  32.0     1009.0     1052.0  11.0   6.0  4.2\n",
       "324  5.0  37.0     1006.0     1044.0   5.0   3.0  4.4\n",
       "\n",
       "[325 rows x 7 columns]"
      ]
     },
     "execution_count": 173,
     "metadata": {},
     "output_type": "execute_result"
    }
   ],
   "source": [
    "beer_df = beer_df[attributes]\n",
    "beer_df"
   ]
  },
  {
   "cell_type": "code",
   "execution_count": 174,
   "id": "hired-reserve",
   "metadata": {},
   "outputs": [
    {
     "data": {
      "text/plain": [
       "abv          float64\n",
       "ibu          float64\n",
       "target_fg    float64\n",
       "target_og    float64\n",
       "ebc          float64\n",
       "srm          float64\n",
       "ph           float64\n",
       "dtype: object"
      ]
     },
     "execution_count": 174,
     "metadata": {},
     "output_type": "execute_result"
    }
   ],
   "source": [
    "beer_df.dtypes"
   ]
  },
  {
   "cell_type": "markdown",
   "id": "portable-nebraska",
   "metadata": {},
   "source": [
    "# KDD"
   ]
  },
  {
   "cell_type": "markdown",
   "id": "equal-benchmark",
   "metadata": {},
   "source": [
    "### Estatisticas da base de dados"
   ]
  },
  {
   "cell_type": "code",
   "execution_count": 175,
   "id": "narrative-empty",
   "metadata": {},
   "outputs": [
    {
     "data": {
      "text/html": [
       "<div>\n",
       "<style scoped>\n",
       "    .dataframe tbody tr th:only-of-type {\n",
       "        vertical-align: middle;\n",
       "    }\n",
       "\n",
       "    .dataframe tbody tr th {\n",
       "        vertical-align: top;\n",
       "    }\n",
       "\n",
       "    .dataframe thead th {\n",
       "        text-align: right;\n",
       "    }\n",
       "</style>\n",
       "<table border=\"1\" class=\"dataframe\">\n",
       "  <thead>\n",
       "    <tr style=\"text-align: right;\">\n",
       "      <th></th>\n",
       "      <th>count</th>\n",
       "      <th>mean</th>\n",
       "      <th>std</th>\n",
       "      <th>min</th>\n",
       "      <th>25%</th>\n",
       "      <th>50%</th>\n",
       "      <th>75%</th>\n",
       "      <th>max</th>\n",
       "    </tr>\n",
       "  </thead>\n",
       "  <tbody>\n",
       "    <tr>\n",
       "      <th>abv</th>\n",
       "      <td>325.0</td>\n",
       "      <td>7.906462</td>\n",
       "      <td>4.682521</td>\n",
       "      <td>0.5</td>\n",
       "      <td>5.200</td>\n",
       "      <td>7.2</td>\n",
       "      <td>9.0</td>\n",
       "      <td>55.0</td>\n",
       "    </tr>\n",
       "    <tr>\n",
       "      <th>ibu</th>\n",
       "      <td>320.0</td>\n",
       "      <td>65.243750</td>\n",
       "      <td>92.403699</td>\n",
       "      <td>0.0</td>\n",
       "      <td>35.000</td>\n",
       "      <td>50.0</td>\n",
       "      <td>70.0</td>\n",
       "      <td>1157.0</td>\n",
       "    </tr>\n",
       "    <tr>\n",
       "      <th>target_fg</th>\n",
       "      <td>324.0</td>\n",
       "      <td>1015.169753</td>\n",
       "      <td>14.488349</td>\n",
       "      <td>1000.0</td>\n",
       "      <td>1010.000</td>\n",
       "      <td>1012.0</td>\n",
       "      <td>1015.0</td>\n",
       "      <td>1125.0</td>\n",
       "    </tr>\n",
       "    <tr>\n",
       "      <th>target_og</th>\n",
       "      <td>324.0</td>\n",
       "      <td>1067.530556</td>\n",
       "      <td>27.142109</td>\n",
       "      <td>1007.0</td>\n",
       "      <td>1048.375</td>\n",
       "      <td>1065.0</td>\n",
       "      <td>1080.0</td>\n",
       "      <td>1157.0</td>\n",
       "    </tr>\n",
       "    <tr>\n",
       "      <th>ebc</th>\n",
       "      <td>319.0</td>\n",
       "      <td>66.228527</td>\n",
       "      <td>92.306210</td>\n",
       "      <td>2.0</td>\n",
       "      <td>15.000</td>\n",
       "      <td>28.0</td>\n",
       "      <td>70.5</td>\n",
       "      <td>600.0</td>\n",
       "    </tr>\n",
       "    <tr>\n",
       "      <th>srm</th>\n",
       "      <td>319.0</td>\n",
       "      <td>33.581881</td>\n",
       "      <td>46.505684</td>\n",
       "      <td>1.0</td>\n",
       "      <td>8.000</td>\n",
       "      <td>15.0</td>\n",
       "      <td>40.0</td>\n",
       "      <td>305.0</td>\n",
       "    </tr>\n",
       "    <tr>\n",
       "      <th>ph</th>\n",
       "      <td>323.0</td>\n",
       "      <td>4.641486</td>\n",
       "      <td>4.166788</td>\n",
       "      <td>3.2</td>\n",
       "      <td>4.400</td>\n",
       "      <td>4.4</td>\n",
       "      <td>4.4</td>\n",
       "      <td>79.0</td>\n",
       "    </tr>\n",
       "  </tbody>\n",
       "</table>\n",
       "</div>"
      ],
      "text/plain": [
       "           count         mean        std     min       25%     50%     75%  \\\n",
       "abv        325.0     7.906462   4.682521     0.5     5.200     7.2     9.0   \n",
       "ibu        320.0    65.243750  92.403699     0.0    35.000    50.0    70.0   \n",
       "target_fg  324.0  1015.169753  14.488349  1000.0  1010.000  1012.0  1015.0   \n",
       "target_og  324.0  1067.530556  27.142109  1007.0  1048.375  1065.0  1080.0   \n",
       "ebc        319.0    66.228527  92.306210     2.0    15.000    28.0    70.5   \n",
       "srm        319.0    33.581881  46.505684     1.0     8.000    15.0    40.0   \n",
       "ph         323.0     4.641486   4.166788     3.2     4.400     4.4     4.4   \n",
       "\n",
       "              max  \n",
       "abv          55.0  \n",
       "ibu        1157.0  \n",
       "target_fg  1125.0  \n",
       "target_og  1157.0  \n",
       "ebc         600.0  \n",
       "srm         305.0  \n",
       "ph           79.0  "
      ]
     },
     "execution_count": 175,
     "metadata": {},
     "output_type": "execute_result"
    }
   ],
   "source": [
    "beer_df.describe().T"
   ]
  },
  {
   "cell_type": "markdown",
   "id": "southwest-designation",
   "metadata": {},
   "source": [
    "**Traramento de Campos Vazios**\n",
    "\n",
    "Quantidade de campos vazios de cada atributo:"
   ]
  },
  {
   "cell_type": "code",
   "execution_count": 176,
   "id": "designing-alarm",
   "metadata": {
    "scrolled": true
   },
   "outputs": [
    {
     "name": "stdout",
     "output_type": "stream",
     "text": [
      "(325, 7)\n"
     ]
    },
    {
     "data": {
      "text/plain": [
       "abv          0\n",
       "ibu          5\n",
       "target_fg    1\n",
       "target_og    1\n",
       "ebc          6\n",
       "srm          6\n",
       "ph           2\n",
       "dtype: int64"
      ]
     },
     "execution_count": 176,
     "metadata": {},
     "output_type": "execute_result"
    }
   ],
   "source": [
    "print(beer_df.shape)\n",
    "beer_df.isna().sum()"
   ]
  },
  {
   "cell_type": "markdown",
   "id": "aboriginal-transcription",
   "metadata": {},
   "source": [
    "Removendo campos vazios."
   ]
  },
  {
   "cell_type": "code",
   "execution_count": 177,
   "id": "light-trust",
   "metadata": {
    "scrolled": true
   },
   "outputs": [
    {
     "name": "stdout",
     "output_type": "stream",
     "text": [
      "(320, 7)\n"
     ]
    },
    {
     "data": {
      "text/plain": [
       "abv          0\n",
       "ibu          0\n",
       "target_fg    0\n",
       "target_og    0\n",
       "ebc          0\n",
       "srm          0\n",
       "ph           0\n",
       "dtype: int64"
      ]
     },
     "execution_count": 177,
     "metadata": {},
     "output_type": "execute_result"
    }
   ],
   "source": [
    "# Remove rows with empty IBU\n",
    "beer_df = beer_df.dropna(subset=['ibu'])\n",
    "\n",
    "# Replace empty rows with using the average\n",
    "beer_df = beer_df.fillna(beer_df.mean())\n",
    "\n",
    "print(beer_df.shape)\n",
    "beer_df.isna().sum()"
   ]
  },
  {
   "cell_type": "markdown",
   "id": "typical-bread",
   "metadata": {},
   "source": [
    "**Histogram dos Atributos Numericos**"
   ]
  },
  {
   "cell_type": "code",
   "execution_count": 178,
   "id": "developed-scheduling",
   "metadata": {},
   "outputs": [
    {
     "data": {
      "text/plain": [
       "array([[<AxesSubplot:title={'center':'abv'}>,\n",
       "        <AxesSubplot:title={'center':'ibu'}>,\n",
       "        <AxesSubplot:title={'center':'target_fg'}>,\n",
       "        <AxesSubplot:title={'center':'target_og'}>],\n",
       "       [<AxesSubplot:title={'center':'ebc'}>,\n",
       "        <AxesSubplot:title={'center':'srm'}>,\n",
       "        <AxesSubplot:title={'center':'ph'}>, <AxesSubplot:>]],\n",
       "      dtype=object)"
      ]
     },
     "execution_count": 178,
     "metadata": {},
     "output_type": "execute_result"
    },
    {
     "data": {
      "image/png": "[encoded data removed]",
      "text/plain": [
       "<Figure size 1440x720 with 8 Axes>"
      ]
     },
     "metadata": {
      "needs_background": "light"
     },
     "output_type": "display_data"
    }
   ],
   "source": [
    "beer_df.hist(figsize=(20,10), grid=False, layout=(2, 4), bins = 30)"
   ]
  },
  {
   "cell_type": "code",
   "execution_count": 179,
   "id": "neural-wright",
   "metadata": {},
   "outputs": [
    {
     "data": {
      "image/png": "[encoded data removed]",
      "text/plain": [
       "<Figure size 1080x180 with 6 Axes>"
      ]
     },
     "metadata": {
      "needs_background": "light"
     },
     "output_type": "display_data"
    }
   ],
   "source": [
    "pp = sns.pairplot(data=beer_df,\n",
    "                  y_vars=['ibu'],\n",
    "                  x_vars=['abv', 'target_fg', 'target_og', 'ebc', 'srm', 'ph'])"
   ]
  },
  {
   "cell_type": "markdown",
   "id": "marine-noise",
   "metadata": {},
   "source": [
    "\n",
    "Olhando para o grafico acima podemos observar que duas instancias aparecem com IBU bastante elevado quando comparada com as outras instancias. \n",
    "\n",
    "Um fenomeno similar ocorre no PH, mas nesse caso ocorre com apenas uma instancia.\n",
    "\n",
    "Essas instancias dificultam a analise do grafico de pares. Dessa forma iremos remove-las da base manualmente e posteriormente iremos utilizar tecnicas mais robustas para remocao de outilers.\n",
    "\n",
    "Posteriormente iremos investigar melhor os outilies em todo dataset e analisar o impacto no modelo."
   ]
  },
  {
   "cell_type": "code",
   "execution_count": 180,
   "id": "theoretical-methodology",
   "metadata": {},
   "outputs": [
    {
     "data": {
      "text/plain": [
       "(317, 7)"
      ]
     },
     "execution_count": 180,
     "metadata": {},
     "output_type": "execute_result"
    }
   ],
   "source": [
    "beer_no_out_df = beer_df[((beer_df['ibu'] < 500) & (beer_df['ph'] < 20))]\n",
    "beer_no_out_df.shape"
   ]
  },
  {
   "cell_type": "code",
   "execution_count": 181,
   "id": "embedded-portable",
   "metadata": {},
   "outputs": [
    {
     "data": {
      "image/png": "[encoded data removed]",
      "text/plain": [
       "<Figure size 1080x180 with 6 Axes>"
      ]
     },
     "metadata": {
      "needs_background": "light"
     },
     "output_type": "display_data"
    }
   ],
   "source": [
    "pp = sns.pairplot(data=beer_no_out_df,\n",
    "                  y_vars=['ibu'],\n",
    "                  x_vars=['abv', 'target_fg', 'target_og', 'ebc', 'srm', 'ph'])"
   ]
  },
  {
   "cell_type": "markdown",
   "id": "configured-motivation",
   "metadata": {},
   "source": [
    "Apos a remocao das tres instancias, podemos visualizar melhor a correlacao de cada atributo com o IBU. Porem, ainda  é possivel observar alguns pontos que parecem ser outliers. Isso reforca a intuicao de que poderiamos utilizar um metodo de remocao de outliers mais robusto."
   ]
  },
  {
   "cell_type": "markdown",
   "id": "productive-particle",
   "metadata": {},
   "source": [
    "**Matriz de Correlacao**"
   ]
  },
  {
   "cell_type": "code",
   "execution_count": 182,
   "id": "valid-colony",
   "metadata": {},
   "outputs": [
    {
     "data": {
      "text/plain": [
       "<AxesSubplot:>"
      ]
     },
     "execution_count": 182,
     "metadata": {},
     "output_type": "execute_result"
    },
    {
     "data": {
      "image/png": "[encoded data removed]",
      "text/plain": [
       "<Figure size 1440x504 with 2 Axes>"
      ]
     },
     "metadata": {
      "needs_background": "light"
     },
     "output_type": "display_data"
    }
   ],
   "source": [
    "plt.figure(figsize=(20,7))\n",
    "sns.heatmap(beer_no_out_df.corr(), annot=True, square=True)"
   ]
  },
  {
   "cell_type": "markdown",
   "id": "sacred-neighborhood",
   "metadata": {},
   "source": [
    "O grafico acima mostra que os atributos que tem mais relacao com o IBU sao o ABV e Target OG, apesar que ser uma relacao fraca quando comparada com as relacoes EBC x SRM e ABV x Target OG. "
   ]
  },
  {
   "cell_type": "code",
   "execution_count": 219,
   "id": "acknowledged-simon",
   "metadata": {},
   "outputs": [
    {
     "data": {
      "text/plain": [
       "<AxesSubplot:xlabel='abv', ylabel='target_og'>"
      ]
     },
     "execution_count": 219,
     "metadata": {},
     "output_type": "execute_result"
    },
    {
     "data": {
      "image/png": "[encoded data removed]",
      "text/plain": [
       "<Figure size 1080x576 with 2 Axes>"
      ]
     },
     "metadata": {
      "needs_background": "light"
     },
     "output_type": "display_data"
    }
   ],
   "source": [
    "beer_no_out_df.plot.scatter(figsize=(15,8), x='abv', y='target_og',c='ibu', colormap='viridis')"
   ]
  },
  {
   "cell_type": "markdown",
   "id": "arabic-cornell",
   "metadata": {},
   "source": [
    "# Modelo de Machine Learning"
   ]
  },
  {
   "cell_type": "code",
   "execution_count": 223,
   "id": "enabling-aruba",
   "metadata": {},
   "outputs": [],
   "source": [
    "X_att = ['abv', 'target_fg', 'target_og', 'ebc', 'srm', 'ph']\n",
    "\n",
    "X = beer_no_out_df[X_att].values\n",
    "X = StandardScaler().fit_transform(X)\n",
    "Y = beer_no_out_df['ibu'].values"
   ]
  },
  {
   "cell_type": "markdown",
   "id": "electric-situation",
   "metadata": {},
   "source": [
    "### Experimento com Regressores"
   ]
  },
  {
   "cell_type": "code",
   "execution_count": 224,
   "id": "abandoned-theorem",
   "metadata": {},
   "outputs": [],
   "source": [
    "def predict_ipu(algorithm, X, Y):\n",
    "    \n",
    "    X_train, X_test, y_train, y_test = train_test_split(\n",
    "        X, Y, test_size=0.2, random_state=42)\n",
    "\n",
    "    feature_importances = []\n",
    "\n",
    "    # Train the model using the training sets\n",
    "    algorithm.fit(X_train, y_train)\n",
    "\n",
    "    if (isinstance(algorithm, GradientBoostingRegressor) or\n",
    "        isinstance(algorithm, RandomForestRegressor)):\n",
    "        feature_importances.append(algorithm.feature_importances_)\n",
    "\n",
    "    y_pred = algorithm.predict(X_test)\n",
    "\n",
    "    # The mean squared error\n",
    "    print('Mean squared error: %.2f'\n",
    "          % mean_squared_error(y_test, y_pred))\n",
    "    # The coefficient of determination: 1 is perfect prediction\n",
    "    print('Coefficient of determination: %.2f'\n",
    "          % r2_score(y_test, y_pred))\n",
    "\n",
    "#         for test, pred in zip(Y_test, Y_pred):\n",
    "#             print(test, pred)\n",
    "   \n",
    "    print('\\n')\n",
    "\n",
    "    return np.array(feature_importances).mean(axis=0)\n",
    " \n",
    "def plot_feature_importance(importance,names,model_type):\n",
    "    #Create arrays from feature importance and feature names\n",
    "    feature_importance = np.array(importance)\n",
    "    feature_names = np.array(names)\n",
    "\n",
    "    #Create a DataFrame using a Dictionary\n",
    "    data={'feature_names':feature_names,'feature_importance':feature_importance}\n",
    "    fi_df = pd.DataFrame(data)\n",
    "\n",
    "    #Sort the DataFrame in order decreasing feature importance\n",
    "    fi_df.sort_values(by=['feature_importance'], ascending=False,inplace=True)\n",
    "\n",
    "    #Plot Searborn bar chart\n",
    "    sns.barplot(x=fi_df['feature_importance'], y=fi_df['feature_names'])\n",
    "    #Add chart labels\n",
    "    plt.title(model_type + 'FEATURE IMPORTANCE')\n",
    "    plt.xlabel('FEATURE IMPORTANCE')"
   ]
  },
  {
   "cell_type": "code",
   "execution_count": 225,
   "id": "directed-improvement",
   "metadata": {},
   "outputs": [
    {
     "name": "stdout",
     "output_type": "stream",
     "text": [
      "Mean squared error: 1314.10\n",
      "Coefficient of determination: 0.06\n",
      "\n",
      "\n",
      "Mean squared error: 1414.14\n",
      "Coefficient of determination: -0.01\n",
      "\n",
      "\n",
      "Mean squared error: 975.69\n",
      "Coefficient of determination: 0.30\n",
      "\n",
      "\n"
     ]
    },
    {
     "name": "stderr",
     "output_type": "stream",
     "text": [
      "/home/ec2-user/anaconda3/envs/python3/lib/python3.6/site-packages/ipykernel/__main__.py:29: RuntimeWarning: Mean of empty slice.\n",
      "/home/ec2-user/anaconda3/envs/python3/lib/python3.6/site-packages/numpy/core/_methods.py:170: RuntimeWarning: invalid value encountered in double_scalars\n",
      "  ret = ret.dtype.type(ret / rcount)\n",
      "/home/ec2-user/anaconda3/envs/python3/lib/python3.6/site-packages/ipykernel/__main__.py:29: RuntimeWarning: Mean of empty slice.\n",
      "/home/ec2-user/anaconda3/envs/python3/lib/python3.6/site-packages/numpy/core/_methods.py:170: RuntimeWarning: invalid value encountered in double_scalars\n",
      "  ret = ret.dtype.type(ret / rcount)\n"
     ]
    },
    {
     "name": "stdout",
     "output_type": "stream",
     "text": [
      "Mean squared error: 941.58\n",
      "Coefficient of determination: 0.32\n",
      "\n",
      "\n"
     ]
    }
   ],
   "source": [
    "predict_ipu(LinearRegression(normalize=True), X, Y)\n",
    "\n",
    "predict_ipu(KNeighborsRegressor(n_neighbors = 4), X, Y)\n",
    "\n",
    "gbr_feature_importances = predict_ipu(GradientBoostingRegressor(), X, Y)\n",
    "\n",
    "rdf_feature_importances = predict_ipu(RandomForestRegressor(), X, Y)"
   ]
  },
  {
   "cell_type": "code",
   "execution_count": 226,
   "id": "aerial-pattern",
   "metadata": {},
   "outputs": [
    {
     "data": {
      "image/png": "[encoded data removed]",
      "text/plain": [
       "<Figure size 432x288 with 1 Axes>"
      ]
     },
     "metadata": {
      "needs_background": "light"
     },
     "output_type": "display_data"
    }
   ],
   "source": [
    "plot_feature_importance(gbr_feature_importances, X_att, 'GradientBoostingRegressor')"
   ]
  },
  {
   "cell_type": "code",
   "execution_count": 227,
   "id": "assumed-therapist",
   "metadata": {},
   "outputs": [
    {
     "data": {
      "image/png": "[encoded data removed]",
      "text/plain": [
       "<Figure size 432x288 with 1 Axes>"
      ]
     },
     "metadata": {
      "needs_background": "light"
     },
     "output_type": "display_data"
    }
   ],
   "source": [
    "plot_feature_importance(rdf_feature_importances, X_att, 'RandomForestRegressor')"
   ]
  },
  {
   "cell_type": "markdown",
   "id": "alleged-nebraska",
   "metadata": {},
   "source": [
    "## Remoção de Outilers"
   ]
  },
  {
   "cell_type": "markdown",
   "id": "obvious-opportunity",
   "metadata": {},
   "source": [
    "Como mencionado anteriormente, algumas instancias parecem ser outilers. O grafico abaixo ilustra essa hipotese."
   ]
  },
  {
   "cell_type": "code",
   "execution_count": 228,
   "id": "metallic-nelson",
   "metadata": {},
   "outputs": [
    {
     "data": {
      "image/png": "[encoded data removed]",
      "text/plain": [
       "<Figure size 1152x432 with 1 Axes>"
      ]
     },
     "metadata": {
      "needs_background": "light"
     },
     "output_type": "display_data"
    }
   ],
   "source": [
    "plt.figure(figsize=(16, 6))\n",
    "bplot = sns.boxplot(data=beer_df, width=1, palette=\"colorblind\")"
   ]
  },
  {
   "cell_type": "markdown",
   "id": "dress-azerbaijan",
   "metadata": {},
   "source": [
    "Desta forma, vamos utilizar o IQR para os outilers e analisar se o resultado se ha melhora no resultado dos experimentos."
   ]
  },
  {
   "cell_type": "code",
   "execution_count": 229,
   "id": "received-treaty",
   "metadata": {},
   "outputs": [
    {
     "data": {
      "text/plain": [
       "(138, 7)"
      ]
     },
     "execution_count": 229,
     "metadata": {},
     "output_type": "execute_result"
    }
   ],
   "source": [
    "Q1 = beer_df.quantile(0.25)\n",
    "Q3 = beer_df.quantile(0.75)\n",
    "IQR = Q3 - Q1\n",
    "\n",
    "beer_noout_df = beer_df[~((beer_df < (Q1 - 1.5 * IQR)) |\n",
    "                          (beer_df > (Q3 + 1.5 * IQR))).any(axis=1)]\n",
    "\n",
    "beer_noout_df.shape"
   ]
  },
  {
   "cell_type": "code",
   "execution_count": 230,
   "id": "aerial-gibson",
   "metadata": {},
   "outputs": [
    {
     "data": {
      "image/png": "[encoded data removed]",
      "text/plain": [
       "<Figure size 1080x180 with 6 Axes>"
      ]
     },
     "metadata": {
      "needs_background": "light"
     },
     "output_type": "display_data"
    }
   ],
   "source": [
    "pp = sns.pairplot(data=beer_noout_df,\n",
    "                  y_vars=['ibu'],\n",
    "                  x_vars=['abv', 'target_fg', 'target_og', 'ebc', 'srm', 'ph'])"
   ]
  },
  {
   "cell_type": "code",
   "execution_count": 231,
   "id": "separated-profession",
   "metadata": {},
   "outputs": [
    {
     "data": {
      "text/plain": [
       "<AxesSubplot:>"
      ]
     },
     "execution_count": 231,
     "metadata": {},
     "output_type": "execute_result"
    },
    {
     "data": {
      "image/png": "[encoded data removed]",
      "text/plain": [
       "<Figure size 1440x504 with 2 Axes>"
      ]
     },
     "metadata": {
      "needs_background": "light"
     },
     "output_type": "display_data"
    }
   ],
   "source": [
    "plt.figure(figsize=(20,7))\n",
    "sns.heatmap(beer_noout_df.corr(), annot=True, square=True)"
   ]
  },
  {
   "cell_type": "code",
   "execution_count": 232,
   "id": "curious-robertson",
   "metadata": {},
   "outputs": [],
   "source": [
    "X = beer_noout_df[X_att].values\n",
    "X = StandardScaler().fit_transform(X)\n",
    "Y = beer_noout_df['ibu'].values"
   ]
  },
  {
   "cell_type": "code",
   "execution_count": 233,
   "id": "colored-diving",
   "metadata": {},
   "outputs": [
    {
     "name": "stdout",
     "output_type": "stream",
     "text": [
      "Mean squared error: 460.11\n",
      "Coefficient of determination: 0.21\n",
      "\n",
      "\n",
      "Mean squared error: 437.15\n",
      "Coefficient of determination: 0.25\n",
      "\n",
      "\n"
     ]
    }
   ],
   "source": [
    "gbr_feature_importances = predict_ipu(GradientBoostingRegressor(), X, Y)\n",
    "\n",
    "rdf_feature_importances = predict_ipu(RandomForestRegressor(), X, Y)"
   ]
  },
  {
   "cell_type": "markdown",
   "id": "creative-danger",
   "metadata": {},
   "source": [
    "**Usando outra abordagem para remocao de outilers** "
   ]
  },
  {
   "cell_type": "code",
   "execution_count": 236,
   "id": "prostate-space",
   "metadata": {},
   "outputs": [
    {
     "name": "stdout",
     "output_type": "stream",
     "text": [
      "Original dataset: 320\n",
      "Dataset after outlier removal: 175\n"
     ]
    }
   ],
   "source": [
    "df = beer_df.copy()\n",
    "\n",
    "for _att in attributes:\n",
    "    att = df[_att]\n",
    "    removed_outliers = att.between(att.quantile(.05), att.quantile(.95))\n",
    "    index_names = df[~removed_outliers].index\n",
    "    df.drop(index_names, inplace=True)\n",
    "\n",
    "print('Original dataset:', len(beer_df))\n",
    "print('Dataset after outlier removal:', len(df))"
   ]
  },
  {
   "cell_type": "code",
   "execution_count": 235,
   "id": "pleasant-elder",
   "metadata": {},
   "outputs": [
    {
     "name": "stdout",
     "output_type": "stream",
     "text": [
      "Mean squared error: 349.65\n",
      "Coefficient of determination: -0.16\n",
      "\n",
      "\n",
      "Mean squared error: 361.61\n",
      "Coefficient of determination: -0.20\n",
      "\n",
      "\n"
     ]
    }
   ],
   "source": [
    "X = df[X_att].values\n",
    "X = StandardScaler().fit_transform(X)\n",
    "Y = df['ibu'].values\n",
    "\n",
    "gbr_feature_importances = predict_ipu(GradientBoostingRegressor(), X, Y)\n",
    "\n",
    "rdf_feature_importances = predict_ipu(RandomForestRegressor(), X, Y)"
   ]
  },
  {
   "cell_type": "markdown",
   "id": "amino-auction",
   "metadata": {},
   "source": [
    "## Experimento com Classificadores\n",
    "\n",
    "Outra forma de analisar o problema de prever o IBU é utizar classificadores. Nesse caso, iresmo discretizar o IBU em escala te tamanho 10."
   ]
  },
  {
   "cell_type": "code",
   "execution_count": 197,
   "id": "sustained-writing",
   "metadata": {},
   "outputs": [
    {
     "data": {
      "text/plain": [
       "count    317.000000\n",
       "mean      58.583596\n",
       "std       38.887518\n",
       "min        0.000000\n",
       "25%       35.000000\n",
       "50%       50.000000\n",
       "75%       70.000000\n",
       "max      250.000000\n",
       "Name: ibu, dtype: float64"
      ]
     },
     "execution_count": 197,
     "metadata": {},
     "output_type": "execute_result"
    }
   ],
   "source": [
    "beer_discret_df = beer_no_out_df.copy()\n",
    "beer_discret_df.ibu.describe()"
   ]
  },
  {
   "cell_type": "code",
   "execution_count": 198,
   "id": "registered-oriental",
   "metadata": {},
   "outputs": [
    {
     "data": {
      "text/html": [
       "<div>\n",
       "<style scoped>\n",
       "    .dataframe tbody tr th:only-of-type {\n",
       "        vertical-align: middle;\n",
       "    }\n",
       "\n",
       "    .dataframe tbody tr th {\n",
       "        vertical-align: top;\n",
       "    }\n",
       "\n",
       "    .dataframe thead th {\n",
       "        text-align: right;\n",
       "    }\n",
       "</style>\n",
       "<table border=\"1\" class=\"dataframe\">\n",
       "  <thead>\n",
       "    <tr style=\"text-align: right;\">\n",
       "      <th></th>\n",
       "      <th>abv</th>\n",
       "      <th>ibu</th>\n",
       "      <th>target_fg</th>\n",
       "      <th>target_og</th>\n",
       "      <th>ebc</th>\n",
       "      <th>srm</th>\n",
       "      <th>ph</th>\n",
       "      <th>disc_ibu</th>\n",
       "    </tr>\n",
       "  </thead>\n",
       "  <tbody>\n",
       "    <tr>\n",
       "      <th>0</th>\n",
       "      <td>4.5</td>\n",
       "      <td>60.0</td>\n",
       "      <td>1010.0</td>\n",
       "      <td>1044.0</td>\n",
       "      <td>20.0</td>\n",
       "      <td>10.0</td>\n",
       "      <td>4.4</td>\n",
       "      <td>(50.0, 60.0]</td>\n",
       "    </tr>\n",
       "    <tr>\n",
       "      <th>1</th>\n",
       "      <td>4.1</td>\n",
       "      <td>41.5</td>\n",
       "      <td>1010.0</td>\n",
       "      <td>1041.7</td>\n",
       "      <td>15.0</td>\n",
       "      <td>15.0</td>\n",
       "      <td>4.4</td>\n",
       "      <td>(40.0, 50.0]</td>\n",
       "    </tr>\n",
       "    <tr>\n",
       "      <th>2</th>\n",
       "      <td>4.2</td>\n",
       "      <td>8.0</td>\n",
       "      <td>1007.0</td>\n",
       "      <td>1040.0</td>\n",
       "      <td>8.0</td>\n",
       "      <td>4.0</td>\n",
       "      <td>3.2</td>\n",
       "      <td>(-0.001, 10.0]</td>\n",
       "    </tr>\n",
       "    <tr>\n",
       "      <th>3</th>\n",
       "      <td>6.3</td>\n",
       "      <td>55.0</td>\n",
       "      <td>1012.0</td>\n",
       "      <td>1060.0</td>\n",
       "      <td>30.0</td>\n",
       "      <td>15.0</td>\n",
       "      <td>4.4</td>\n",
       "      <td>(50.0, 60.0]</td>\n",
       "    </tr>\n",
       "    <tr>\n",
       "      <th>4</th>\n",
       "      <td>7.2</td>\n",
       "      <td>59.0</td>\n",
       "      <td>1027.0</td>\n",
       "      <td>1069.0</td>\n",
       "      <td>10.0</td>\n",
       "      <td>5.0</td>\n",
       "      <td>4.4</td>\n",
       "      <td>(50.0, 60.0]</td>\n",
       "    </tr>\n",
       "    <tr>\n",
       "      <th>...</th>\n",
       "      <td>...</td>\n",
       "      <td>...</td>\n",
       "      <td>...</td>\n",
       "      <td>...</td>\n",
       "      <td>...</td>\n",
       "      <td>...</td>\n",
       "      <td>...</td>\n",
       "      <td>...</td>\n",
       "    </tr>\n",
       "    <tr>\n",
       "      <th>320</th>\n",
       "      <td>4.7</td>\n",
       "      <td>35.0</td>\n",
       "      <td>1008.0</td>\n",
       "      <td>1043.0</td>\n",
       "      <td>13.0</td>\n",
       "      <td>7.0</td>\n",
       "      <td>4.6</td>\n",
       "      <td>(30.0, 40.0]</td>\n",
       "    </tr>\n",
       "    <tr>\n",
       "      <th>321</th>\n",
       "      <td>6.9</td>\n",
       "      <td>65.0</td>\n",
       "      <td>1008.0</td>\n",
       "      <td>1060.0</td>\n",
       "      <td>18.0</td>\n",
       "      <td>9.0</td>\n",
       "      <td>4.6</td>\n",
       "      <td>(60.0, 70.0]</td>\n",
       "    </tr>\n",
       "    <tr>\n",
       "      <th>322</th>\n",
       "      <td>5.0</td>\n",
       "      <td>25.0</td>\n",
       "      <td>1007.0</td>\n",
       "      <td>1045.0</td>\n",
       "      <td>14.0</td>\n",
       "      <td>7.0</td>\n",
       "      <td>4.2</td>\n",
       "      <td>(20.0, 30.0]</td>\n",
       "    </tr>\n",
       "    <tr>\n",
       "      <th>323</th>\n",
       "      <td>5.6</td>\n",
       "      <td>32.0</td>\n",
       "      <td>1009.0</td>\n",
       "      <td>1052.0</td>\n",
       "      <td>11.0</td>\n",
       "      <td>6.0</td>\n",
       "      <td>4.2</td>\n",
       "      <td>(30.0, 40.0]</td>\n",
       "    </tr>\n",
       "    <tr>\n",
       "      <th>324</th>\n",
       "      <td>5.0</td>\n",
       "      <td>37.0</td>\n",
       "      <td>1006.0</td>\n",
       "      <td>1044.0</td>\n",
       "      <td>5.0</td>\n",
       "      <td>3.0</td>\n",
       "      <td>4.4</td>\n",
       "      <td>(30.0, 40.0]</td>\n",
       "    </tr>\n",
       "  </tbody>\n",
       "</table>\n",
       "<p>317 rows × 8 columns</p>\n",
       "</div>"
      ],
      "text/plain": [
       "     abv   ibu  target_fg  target_og   ebc   srm   ph        disc_ibu\n",
       "0    4.5  60.0     1010.0     1044.0  20.0  10.0  4.4    (50.0, 60.0]\n",
       "1    4.1  41.5     1010.0     1041.7  15.0  15.0  4.4    (40.0, 50.0]\n",
       "2    4.2   8.0     1007.0     1040.0   8.0   4.0  3.2  (-0.001, 10.0]\n",
       "3    6.3  55.0     1012.0     1060.0  30.0  15.0  4.4    (50.0, 60.0]\n",
       "4    7.2  59.0     1027.0     1069.0  10.0   5.0  4.4    (50.0, 60.0]\n",
       "..   ...   ...        ...        ...   ...   ...  ...             ...\n",
       "320  4.7  35.0     1008.0     1043.0  13.0   7.0  4.6    (30.0, 40.0]\n",
       "321  6.9  65.0     1008.0     1060.0  18.0   9.0  4.6    (60.0, 70.0]\n",
       "322  5.0  25.0     1007.0     1045.0  14.0   7.0  4.2    (20.0, 30.0]\n",
       "323  5.6  32.0     1009.0     1052.0  11.0   6.0  4.2    (30.0, 40.0]\n",
       "324  5.0  37.0     1006.0     1044.0   5.0   3.0  4.4    (30.0, 40.0]\n",
       "\n",
       "[317 rows x 8 columns]"
      ]
     },
     "execution_count": 198,
     "metadata": {},
     "output_type": "execute_result"
    }
   ],
   "source": [
    "min_ibu = beer_discret_df.ibu.min()\n",
    "max_ibu = beer_discret_df.ibu.max()\n",
    "\n",
    "bins = list(range(int(min_ibu), int(max_ibu) + 10, 10))\n",
    "bins_label = bins[1:-1]\n",
    "\n",
    "beer_discret_df['disc_ibu'] = pd.cut(beer_discret_df['ibu'], bins, include_lowest= True)\n",
    "beer_discret_df"
   ]
  },
  {
   "cell_type": "code",
   "execution_count": 211,
   "id": "burning-satin",
   "metadata": {},
   "outputs": [],
   "source": [
    "def predict_ipu_classifier(model, X, Y):\n",
    "    X_train, X_test, y_train, y_test = train_test_split(\n",
    "        X, Y, test_size=0.2, random_state=42)\n",
    "    \n",
    "    model.fit(X_train, y_train)\n",
    "    \n",
    "    y_pred = model.predict(X_test)\n",
    "    \n",
    "    print(classification_report(y_test, y_pred))"
   ]
  },
  {
   "cell_type": "code",
   "execution_count": 208,
   "id": "strong-hostel",
   "metadata": {},
   "outputs": [],
   "source": [
    "X = beer_discret_df[X_att].values\n",
    "X = StandardScaler().fit_transform(X)\n",
    "Y = beer_discret_df['disc_ibu'].values\n",
    "Y = np.array([str(y) for y in Y])"
   ]
  },
  {
   "cell_type": "code",
   "execution_count": 209,
   "id": "matched-prefix",
   "metadata": {},
   "outputs": [
    {
     "name": "stdout",
     "output_type": "stream",
     "text": [
      "                precision    recall  f1-score   support\n",
      "\n",
      "(-0.001, 10.0]       1.00      0.33      0.50         3\n",
      "  (10.0, 20.0]       0.00      0.00      0.00         2\n",
      "(120.0, 130.0]       0.00      0.00      0.00         0\n",
      "(130.0, 140.0]       0.00      0.00      0.00         0\n",
      "(170.0, 180.0]       0.00      0.00      0.00         0\n",
      "(190.0, 200.0]       0.00      0.00      0.00         1\n",
      "  (20.0, 30.0]       0.06      0.33      0.11         3\n",
      "(240.0, 250.0]       0.50      1.00      0.67         1\n",
      "  (30.0, 40.0]       0.50      0.33      0.40        12\n",
      "  (40.0, 50.0]       0.12      0.10      0.11        10\n",
      "  (50.0, 60.0]       0.25      0.40      0.31         5\n",
      "  (60.0, 70.0]       1.00      0.47      0.64        15\n",
      "  (70.0, 80.0]       0.25      0.25      0.25         4\n",
      "  (80.0, 90.0]       0.00      0.00      0.00         5\n",
      " (90.0, 100.0]       1.00      0.67      0.80         3\n",
      "\n",
      "      accuracy                           0.31        64\n",
      "     macro avg       0.31      0.26      0.25        64\n",
      "  weighted avg       0.49      0.31      0.36        64\n",
      "\n"
     ]
    },
    {
     "name": "stderr",
     "output_type": "stream",
     "text": [
      "/home/ec2-user/anaconda3/envs/python3/lib/python3.6/site-packages/sklearn/metrics/_classification.py:1245: UndefinedMetricWarning: Precision and F-score are ill-defined and being set to 0.0 in labels with no predicted samples. Use `zero_division` parameter to control this behavior.\n",
      "  _warn_prf(average, modifier, msg_start, len(result))\n",
      "/home/ec2-user/anaconda3/envs/python3/lib/python3.6/site-packages/sklearn/metrics/_classification.py:1245: UndefinedMetricWarning: Recall and F-score are ill-defined and being set to 0.0 in labels with no true samples. Use `zero_division` parameter to control this behavior.\n",
      "  _warn_prf(average, modifier, msg_start, len(result))\n",
      "/home/ec2-user/anaconda3/envs/python3/lib/python3.6/site-packages/sklearn/metrics/_classification.py:1245: UndefinedMetricWarning: Precision and F-score are ill-defined and being set to 0.0 in labels with no predicted samples. Use `zero_division` parameter to control this behavior.\n",
      "  _warn_prf(average, modifier, msg_start, len(result))\n",
      "/home/ec2-user/anaconda3/envs/python3/lib/python3.6/site-packages/sklearn/metrics/_classification.py:1245: UndefinedMetricWarning: Recall and F-score are ill-defined and being set to 0.0 in labels with no true samples. Use `zero_division` parameter to control this behavior.\n",
      "  _warn_prf(average, modifier, msg_start, len(result))\n",
      "/home/ec2-user/anaconda3/envs/python3/lib/python3.6/site-packages/sklearn/metrics/_classification.py:1245: UndefinedMetricWarning: Precision and F-score are ill-defined and being set to 0.0 in labels with no predicted samples. Use `zero_division` parameter to control this behavior.\n",
      "  _warn_prf(average, modifier, msg_start, len(result))\n",
      "/home/ec2-user/anaconda3/envs/python3/lib/python3.6/site-packages/sklearn/metrics/_classification.py:1245: UndefinedMetricWarning: Recall and F-score are ill-defined and being set to 0.0 in labels with no true samples. Use `zero_division` parameter to control this behavior.\n",
      "  _warn_prf(average, modifier, msg_start, len(result))\n"
     ]
    }
   ],
   "source": [
    "predict_ipu_classifier(KNeighborsClassifier(n_neighbors=3), X, Y)"
   ]
  },
  {
   "cell_type": "code",
   "execution_count": 210,
   "id": "comparative-jonathan",
   "metadata": {},
   "outputs": [
    {
     "name": "stdout",
     "output_type": "stream",
     "text": [
      "                precision    recall  f1-score   support\n",
      "\n",
      "(-0.001, 10.0]       1.00      0.33      0.50         3\n",
      "  (10.0, 20.0]       0.00      0.00      0.00         2\n",
      "(190.0, 200.0]       0.00      0.00      0.00         1\n",
      "  (20.0, 30.0]       0.12      0.33      0.18         3\n",
      "(240.0, 250.0]       0.50      1.00      0.67         1\n",
      "  (30.0, 40.0]       0.38      0.42      0.40        12\n",
      "  (40.0, 50.0]       0.10      0.10      0.10        10\n",
      "  (50.0, 60.0]       0.25      0.20      0.22         5\n",
      "  (60.0, 70.0]       0.77      0.67      0.71        15\n",
      "  (70.0, 80.0]       0.25      0.25      0.25         4\n",
      "  (80.0, 90.0]       0.67      0.40      0.50         5\n",
      " (90.0, 100.0]       0.50      0.67      0.57         3\n",
      "\n",
      "      accuracy                           0.39        64\n",
      "     macro avg       0.38      0.36      0.34        64\n",
      "  weighted avg       0.44      0.39      0.40        64\n",
      "\n"
     ]
    },
    {
     "name": "stderr",
     "output_type": "stream",
     "text": [
      "/home/ec2-user/anaconda3/envs/python3/lib/python3.6/site-packages/sklearn/metrics/_classification.py:1245: UndefinedMetricWarning: Precision and F-score are ill-defined and being set to 0.0 in labels with no predicted samples. Use `zero_division` parameter to control this behavior.\n",
      "  _warn_prf(average, modifier, msg_start, len(result))\n",
      "/home/ec2-user/anaconda3/envs/python3/lib/python3.6/site-packages/sklearn/metrics/_classification.py:1245: UndefinedMetricWarning: Precision and F-score are ill-defined and being set to 0.0 in labels with no predicted samples. Use `zero_division` parameter to control this behavior.\n",
      "  _warn_prf(average, modifier, msg_start, len(result))\n",
      "/home/ec2-user/anaconda3/envs/python3/lib/python3.6/site-packages/sklearn/metrics/_classification.py:1245: UndefinedMetricWarning: Precision and F-score are ill-defined and being set to 0.0 in labels with no predicted samples. Use `zero_division` parameter to control this behavior.\n",
      "  _warn_prf(average, modifier, msg_start, len(result))\n"
     ]
    }
   ],
   "source": [
    "predict_ipu_classifier(RandomForestClassifier(max_depth=10, random_state=0), X, Y)"
   ]
  }
 ],
 "metadata": {
  "kernelspec": {
   "display_name": "conda_python3",
   "language": "python",
   "name": "conda_python3"
  },
  "language_info": {
   "codemirror_mode": {
    "name": "ipython",
    "version": 3
   },
   "file_extension": ".py",
   "mimetype": "text/x-python",
   "name": "python",
   "nbconvert_exporter": "python",
   "pygments_lexer": "ipython3",
   "version": "3.6.13"
  }
 },
 "nbformat": 4,
 "nbformat_minor": 5
}
